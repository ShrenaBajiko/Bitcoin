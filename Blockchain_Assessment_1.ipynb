{
  "nbformat": 4,
  "nbformat_minor": 0,
  "metadata": {
    "colab": {
      "provenance": [],
      "include_colab_link": true
    },
    "kernelspec": {
      "name": "python3",
      "display_name": "Python 3"
    },
    "language_info": {
      "name": "python"
    }
  },
  "cells": [
    {
      "cell_type": "markdown",
      "metadata": {
        "id": "view-in-github",
        "colab_type": "text"
      },
      "source": [
        "<a href=\"https://colab.research.google.com/github/ShrenaBajiko/Bitcoin/blob/main/Blockchain_Assessment_1.ipynb\" target=\"_parent\"><img src=\"https://colab.research.google.com/assets/colab-badge.svg\" alt=\"Open In Colab\"/></a>"
      ]
    },
    {
      "cell_type": "code",
      "source": [],
      "metadata": {
        "id": "mv0qhfRxL7eC"
      },
      "execution_count": null,
      "outputs": []
    },
    {
      "cell_type": "code",
      "execution_count": 1,
      "metadata": {
        "id": "Gv7x7Ety0GYj",
        "colab": {
          "base_uri": "https://localhost:8080/"
        },
        "outputId": "5ed9c614-9726-45d6-bce4-0fbe5c30f774"
      },
      "outputs": [
        {
          "output_type": "stream",
          "name": "stdout",
          "text": [
            "Mining block 1...\n",
            "Mining block 2...\n",
            "\n",
            "Blockchain validity: True\n",
            "\n",
            "Block 0 \n",
            " Hash: 9eeacb15846e37631725004a7ddc7a483988350e8b621936ed20377181c24eef \n",
            " Previous Hash: 0\n",
            "\n",
            "Block 1 \n",
            " Hash: 0000586e025e09b966c1976d2df7543c1cb364e49f00ac6bce1965c4222981ec \n",
            " Previous Hash: 9eeacb15846e37631725004a7ddc7a483988350e8b621936ed20377181c24eef\n",
            "\n",
            "Block 2 \n",
            " Hash: 0000ae61ec7488cb12cedeca31f34555914912bb54149e8349b3b486804421c8 \n",
            " Previous Hash: 0000586e025e09b966c1976d2df7543c1cb364e49f00ac6bce1965c4222981ec\n"
          ]
        }
      ],
      "source": [
        "import hashlib\n",
        "import time\n",
        "\n",
        "class Block:\n",
        "    def __init__(self, index, previous_hash, timestamp, data, proof):\n",
        "        self.index = index\n",
        "        self.previous_hash = previous_hash\n",
        "        self.timestamp = timestamp\n",
        "        self.data = data\n",
        "        self.proof = proof\n",
        "        self.hash = self.calculate_hash()\n",
        "\n",
        "    def calculate_hash(self):\n",
        "        # TODO: Implement the hash calculation for the block\n",
        "        # Hint: Combine all block attributes into a string and hash it using SHA-256\n",
        "        block_string = f\"{self.index}{self.previous_hash}{self.timestamp}{self.data}{self.proof}\"\n",
        "        return hashlib.sha256(block_string.encode()).hexdigest()\n",
        "\n",
        "\n",
        "\n",
        "\n",
        "class Blockchain:\n",
        "    def __init__(self):\n",
        "        self.difficulty = 4  # Number of leading zeros required in the hash\n",
        "        self.chain = [self.create_genesis_block()]\n",
        "\n",
        "\n",
        "\n",
        "    def create_genesis_block(self):\n",
        "    # Create and return the genesis block as a Block object\n",
        "\n",
        "        return Block(\n",
        "        index=0,\n",
        "        previous_hash=\"0\",\n",
        "        timestamp=time.time(),\n",
        "        data=\"Genesis Block\",\n",
        "        proof=0\n",
        "    )\n",
        "\n",
        "\n",
        "    def get_latest_block(self):\n",
        "        # TODO: Return the latest block in the chain\n",
        "        if len(self.chain) == 0:\n",
        "          return \"list is empty\"\n",
        "        return self.chain[-1]\n",
        "\n",
        "    def add_block(self, new_block):\n",
        "        # TODO: Add a new block to the chain\n",
        "        # Set the new block's previous_hash to the hash of the latest block\n",
        "        new_block.previous_hash = self.get_latest_block().hash\n",
        "        new_block.hash = new_block.calculate_hash()\n",
        "        self.chain.append(new_block)\n",
        "\n",
        "\n",
        "    def is_valid_proof(self, block):\n",
        "\n",
        "        guess_hash = block.calculate_hash()\n",
        "        return guess_hash.startswith(\"0000\")\n",
        "\n",
        "\n",
        "    def proof_of_work(self, block):\n",
        "        # TODO: Implement the proof-of-work algorithm\n",
        "        # Hint: Increment the proof value until the block's hash starts with the required number of leading zeros\n",
        "\n",
        "      nonce = 0\n",
        "      while True:\n",
        "          block.proof = nonce\n",
        "          block.hash = block.calculate_hash()\n",
        "          if self.is_valid_proof(block):\n",
        "              return nonce\n",
        "          nonce += 1\n",
        "\n",
        "\n",
        "\n",
        "    def validate_blocks(blocks):\n",
        "      for i in range(1, len(blocks)):\n",
        "        current = blocks[i]\n",
        "        previous_blocks = blocks[i-1]\n",
        "\n",
        "        if current['previous_hash'] != current['hash']:\n",
        "          return False\n",
        "\n",
        "      return True\n",
        "\n",
        "\n",
        "    def add_data(self, data):\n",
        "    # TODO: Create a new block with the provided data, perform proof of work, and add it to the chain\n",
        "\n",
        "    # 1. Create the new block with initial proof 0\n",
        "        new_block = Block(\n",
        "                        index=len(self.chain),\n",
        "                        previous_hash=self.get_latest_block().hash,\n",
        "                        timestamp=time.time(),\n",
        "                        data=data,\n",
        "                        proof=0\n",
        "                    )\n",
        "\n",
        "    # 2. Perform proof of work (mine the block)\n",
        "        self.proof_of_work(new_block)\n",
        "\n",
        "    # 3. Add the mined block to the chain\n",
        "        self.chain.append(new_block)\n",
        "\n",
        "\n",
        "    def is_chain_valid(self):\n",
        "        # TODO: Validate the integrity of the blockchain\n",
        "        # Hint: Check that each block's hash is correct and that the previous_hash matches the hash of the previous block\n",
        "    # Start from the second block (index 1) because the first is the Genesis block\n",
        "      for i in range(1, len(self.chain)):\n",
        "          current_block = self.chain[i]\n",
        "          previous_block = self.chain[i - 1]\n",
        "\n",
        "          # Check if the current block's hash is correct (no tampering)\n",
        "          if current_block.hash != current_block.calculate_hash():\n",
        "              print(f\"Invalid hash at block {i}\")\n",
        "              return False\n",
        "\n",
        "          # Check if the current block's previous_hash matches the actual hash of the previous block\n",
        "          if current_block.previous_hash != previous_block.hash:\n",
        "              print(f\"Invalid link between block {i - 1} and block {i}\")\n",
        "              return False\n",
        "\n",
        "      return True\n",
        "\n",
        "\n",
        "\n",
        "# Example Usage\n",
        "if __name__ == \"__main__\":\n",
        "    blockchain = Blockchain()\n",
        "\n",
        "\n",
        "    print(\"Mining block 1...\")\n",
        "    blockchain.add_data(\"Transaction data for Block 1\")\n",
        "\n",
        "    print(\"Mining block 2...\")\n",
        "    blockchain.add_data(\"Transaction data for Block 2\")\n",
        "\n",
        "    print(\"\\nBlockchain validity:\", blockchain.is_chain_valid())\n",
        "\n",
        "    for block in blockchain.chain:\n",
        "      print(f\"\\nBlock {block.index} \\n Hash: {block.hash} \\n Previous Hash: {block.previous_hash}\")\n"
      ]
    },
    {
      "cell_type": "code",
      "source": [
        "\n",
        "\n"
      ],
      "metadata": {
        "id": "kWSMcZwiAUWd"
      },
      "execution_count": null,
      "outputs": []
    },
    {
      "cell_type": "code",
      "source": [],
      "metadata": {
        "id": "GPiP3rZN_p7P"
      },
      "execution_count": null,
      "outputs": []
    },
    {
      "cell_type": "code",
      "source": [],
      "metadata": {
        "id": "qGSreeFOy84Q"
      },
      "execution_count": null,
      "outputs": []
    },
    {
      "cell_type": "code",
      "source": [
        "\n",
        "\n"
      ],
      "metadata": {
        "id": "rqZtCUzvLg5B"
      },
      "execution_count": null,
      "outputs": []
    },
    {
      "cell_type": "code",
      "source": [],
      "metadata": {
        "id": "mTP9zYWBLg8h"
      },
      "execution_count": null,
      "outputs": []
    },
    {
      "cell_type": "code",
      "source": [],
      "metadata": {
        "id": "vtnLtYNULg-s"
      },
      "execution_count": null,
      "outputs": []
    }
  ]
}